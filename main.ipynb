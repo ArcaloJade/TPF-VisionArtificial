{
 "cells": [
  {
   "cell_type": "code",
   "execution_count": 7,
   "id": "7df3b6f3",
   "metadata": {},
   "outputs": [
    {
     "name": "stdout",
     "output_type": "stream",
     "text": [
      "loading Roboflow workspace...\n",
      "loading Roboflow project...\n"
     ]
    },
    {
     "name": "stderr",
     "output_type": "stream",
     "text": [
      "Downloading Dataset Version Zip in Constellation-1 to yolov11:: 100%|██████████| 36180/36180 [00:16<00:00, 2173.31it/s]"
     ]
    },
    {
     "name": "stdout",
     "output_type": "stream",
     "text": [
      "\n"
     ]
    },
    {
     "name": "stderr",
     "output_type": "stream",
     "text": [
      "\n",
      "Extracting Dataset Version Zip to Constellation-1 in yolov11:: 100%|██████████| 4700/4700 [00:00<00:00, 10575.11it/s]\n"
     ]
    }
   ],
   "source": [
    "\n",
    "from roboflow import Roboflow\n",
    "rf = Roboflow(api_key=\"QnnzsdXPEsvcmyZQsec6\")\n",
    "project = rf.workspace(\"ws-qwbuh\").project(\"constellation-dsphi\")\n",
    "version = project.version(1)\n",
    "dataset = version.download(\"yolov11\")"
   ]
  },
  {
   "cell_type": "code",
   "execution_count": 12,
   "id": "77380e14",
   "metadata": {},
   "outputs": [],
   "source": [
    "# !pip install ultralytics\n",
    "# !pip install seaborn\n",
    "from ultralytics import YOLO\n",
    "import cv2\n",
    "import numpy as np\n",
    "import matplotlib.pyplot as plt\n",
    "import seaborn as sns\n",
    "import os\n",
    "import random"
   ]
  },
  {
   "cell_type": "code",
   "execution_count": 13,
   "id": "87333133",
   "metadata": {},
   "outputs": [],
   "source": [
    "dataset_path = \"Constellation-1\"\n",
    "\n",
    "train_path = dataset_path + \"/train\"\n",
    "valid_path = dataset_path + \"/valid\"\n",
    "test_path = dataset_path + \"/test\"\n",
    "\n",
    "train_imgs = train_path + \"/images\"\n",
    "valid_imgs = valid_path + \"/images\"\n",
    "test_imgs = test_path + \"/images\"\n",
    "\n",
    "train_labels = train_path + \"/labels\"\n",
    "valid_labels = valid_path + \"/labels\"\n",
    "test_labels = test_path + \"/labels\""
   ]
  },
  {
   "cell_type": "code",
   "execution_count": 14,
   "id": "3a5686ba",
   "metadata": {},
   "outputs": [
    {
     "ename": "ValueError",
     "evalue": "No image files found in the training directory.",
     "output_type": "error",
     "traceback": [
      "\u001b[31m---------------------------------------------------------------------------\u001b[39m",
      "\u001b[31mValueError\u001b[39m                                Traceback (most recent call last)",
      "\u001b[36mCell\u001b[39m\u001b[36m \u001b[39m\u001b[32mIn[14]\u001b[39m\u001b[32m, line 4\u001b[39m\n\u001b[32m      2\u001b[39m image_files = [f \u001b[38;5;28;01mfor\u001b[39;00m f \u001b[38;5;129;01min\u001b[39;00m os.listdir(train_path) \u001b[38;5;28;01mif\u001b[39;00m f.lower().endswith((\u001b[33m'\u001b[39m\u001b[33m.png\u001b[39m\u001b[33m'\u001b[39m, \u001b[33m'\u001b[39m\u001b[33m.jpg\u001b[39m\u001b[33m'\u001b[39m, \u001b[33m'\u001b[39m\u001b[33m.jpeg\u001b[39m\u001b[33m'\u001b[39m))]\n\u001b[32m      3\u001b[39m \u001b[38;5;28;01mif\u001b[39;00m \u001b[38;5;129;01mnot\u001b[39;00m image_files:\n\u001b[32m----> \u001b[39m\u001b[32m4\u001b[39m     \u001b[38;5;28;01mraise\u001b[39;00m \u001b[38;5;167;01mValueError\u001b[39;00m(\u001b[33m\"\u001b[39m\u001b[33mNo image files found in the training directory.\u001b[39m\u001b[33m\"\u001b[39m)\n\u001b[32m      5\u001b[39m random_image_file = random.choice(image_files)\n\u001b[32m      6\u001b[39m image_path = os.path.join(train_path, random_image_file)\n",
      "\u001b[31mValueError\u001b[39m: No image files found in the training directory."
     ]
    }
   ],
   "source": [
    "# Get a random image from the train folder\n",
    "image_files = [f for f in os.listdir(train_path) if f.lower().endswith(('.png', '.jpg', '.jpeg'))]\n",
    "if not image_files:\n",
    "    raise ValueError(\"No image files found in the training directory.\")\n",
    "random_image_file = random.choice(image_files)\n",
    "image_path = os.path.join(train_path, random_image_file)\n",
    "\n",
    "# Load image in grayscale\n",
    "original = cv2.imread(image_path, cv2.IMREAD_GRAYSCALE)\n",
    "\n",
    "# Apply sigmoid contrast enhancement\n",
    "# You can tweak gain and cutoff to control the steepness and center of the curve\n",
    "def sigmoid_contrast(img, gain=10, cutoff=128):\n",
    "    img = img.astype(np.float32)\n",
    "    sigmoid = 255 / (1 + np.exp(-gain * (img - cutoff) / 255.0))\n",
    "    return np.uint8(sigmoid)\n",
    "\n",
    "transformed = sigmoid_contrast(original)\n",
    "\n",
    "# Show original and transformed image\n",
    "plt.figure(figsize=(10, 4))\n",
    "\n",
    "plt.subplot(1, 2, 1)\n",
    "plt.title(\"Original Image\")\n",
    "plt.imshow(original, cmap='gray')\n",
    "plt.axis('off')\n",
    "\n",
    "plt.subplot(1, 2, 2)\n",
    "plt.title(\"Sigmoid Thresholded\")\n",
    "plt.imshow(transformed, cmap='gray')\n",
    "plt.axis('off')\n",
    "\n",
    "plt.tight_layout()\n",
    "plt.show()"
   ]
  }
 ],
 "metadata": {
  "kernelspec": {
   "display_name": ".venv",
   "language": "python",
   "name": "python3"
  },
  "language_info": {
   "codemirror_mode": {
    "name": "ipython",
    "version": 3
   },
   "file_extension": ".py",
   "mimetype": "text/x-python",
   "name": "python",
   "nbconvert_exporter": "python",
   "pygments_lexer": "ipython3",
   "version": "3.11.11"
  }
 },
 "nbformat": 4,
 "nbformat_minor": 5
}
